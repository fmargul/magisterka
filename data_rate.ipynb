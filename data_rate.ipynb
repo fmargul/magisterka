{
  "cells": [
    {
      "cell_type": "code",
      "execution_count": 1,
      "metadata": {
        "id": "cM21Z2iyF7jN"
      },
      "outputs": [],
      "source": [
        "import pandas as pd\n",
        "import matplotlib.pyplot as plt\n",
        "from mpl_toolkits.mplot3d import Axes3D\n",
        "import numpy as np\n",
        "import scipy.stats as st\n",
        "import seaborn.objects as so\n",
        "import seaborn as sns"
      ]
    },
    {
      "cell_type": "code",
      "execution_count": 3,
      "metadata": {
        "id": "oDCus3y_GTjS"
      },
      "outputs": [],
      "source": [
        "palette = ['black', 'darkred', 'darkolivegreen', 'darkgoldenrod', 'navy', 'darkmagenta'] #https://matplotlib.org/stable/gallery/color/named_colors.html\n",
        "marker_size = 8  # Ustalony rozmiar markerów\n",
        "xlabel = \"Data rate [Mbps]\""
      ]
    },
    {
      "cell_type": "code",
      "execution_count": 4,
      "metadata": {
        "colab": {
          "base_uri": "https://localhost:8080/",
          "height": 1000
        },
        "id": "IfKXWznlGbGQ",
        "outputId": "3ca16c51-7d49-4a05-f92c-5cbbbd08bade"
      },
      "outputs": [
        {
          "data": {
            "application/vnd.microsoft.datawrangler.viewer.v0+json": {
              "columns": [
                {
                  "name": "index",
                  "rawType": "int64",
                  "type": "integer"
                },
                {
                  "name": "rngRun",
                  "rawType": "int64",
                  "type": "integer"
                },
                {
                  "name": "nStations",
                  "rawType": "int64",
                  "type": "integer"
                },
                {
                  "name": "distance",
                  "rawType": "int64",
                  "type": "integer"
                },
                {
                  "name": "linksNumber",
                  "rawType": "int64",
                  "type": "integer"
                },
                {
                  "name": "loss",
                  "rawType": "float64",
                  "type": "float"
                },
                {
                  "name": "jitter",
                  "rawType": "float64",
                  "type": "float"
                },
                {
                  "name": "latency",
                  "rawType": "float64",
                  "type": "float"
                },
                {
                  "name": "throughput",
                  "rawType": "float64",
                  "type": "float"
                },
                {
                  "name": "dataRate",
                  "rawType": "int64",
                  "type": "integer"
                }
              ],
              "conversionMethod": "pd.DataFrame",
              "ref": "89aecbe5-a1c6-4c02-bed5-0049cfcd8499",
              "rows": [
                [
                  "0",
                  "407456",
                  "1",
                  "0",
                  "1",
                  "0.007",
                  "3.49736e-05",
                  "0.000174147",
                  "9.9993",
                  "10"
                ],
                [
                  "1",
                  "407456",
                  "1",
                  "0",
                  "2",
                  "0.005",
                  "4.22398e-05",
                  "0.000180015",
                  "9.9995",
                  "10"
                ],
                [
                  "2",
                  "407456",
                  "1",
                  "0",
                  "1",
                  "0.0085",
                  "2.01781e-05",
                  "0.000178374",
                  "19.9983",
                  "20"
                ],
                [
                  "3",
                  "407456",
                  "1",
                  "0",
                  "3",
                  "0.008",
                  "4.6048e-05",
                  "0.000185723",
                  "9.9992",
                  "10"
                ],
                [
                  "4",
                  "407456",
                  "1",
                  "0",
                  "2",
                  "0.006",
                  "2.392e-05",
                  "0.000185399",
                  "19.9988",
                  "20"
                ],
                [
                  "5",
                  "407456",
                  "1",
                  "0",
                  "1",
                  "0.00866667",
                  "1.74831e-05",
                  "0.000182578",
                  "29.9974",
                  "30"
                ],
                [
                  "6",
                  "407456",
                  "1",
                  "0",
                  "3",
                  "0.0095",
                  "2.57931e-05",
                  "0.000190818",
                  "19.9981",
                  "20"
                ],
                [
                  "7",
                  "407456",
                  "1",
                  "0",
                  "2",
                  "0.00666667",
                  "1.99479e-05",
                  "0.000191326",
                  "29.998",
                  "30"
                ],
                [
                  "8",
                  "407456",
                  "1",
                  "0",
                  "1",
                  "0.009",
                  "4.72688e-05",
                  "0.000300625",
                  "39.9964",
                  "40"
                ],
                [
                  "9",
                  "407456",
                  "1",
                  "0",
                  "3",
                  "0.00966667",
                  "2.12177e-05",
                  "0.000197623",
                  "29.9971",
                  "30"
                ],
                [
                  "10",
                  "407456",
                  "1",
                  "0",
                  "1",
                  "0.0094",
                  "9.38507e-05",
                  "0.000379269",
                  "49.9953",
                  "50"
                ],
                [
                  "11",
                  "407456",
                  "1",
                  "0",
                  "2",
                  "0.007",
                  "4.8983e-05",
                  "0.000311829",
                  "39.9972",
                  "40"
                ],
                [
                  "12",
                  "407456",
                  "1",
                  "0",
                  "3",
                  "0.01025",
                  "4.97765e-05",
                  "0.000317234",
                  "39.9959",
                  "40"
                ],
                [
                  "13",
                  "407456",
                  "1",
                  "0",
                  "1",
                  "0.0095",
                  "0.000109278",
                  "0.000433056",
                  "59.9943",
                  "60"
                ],
                [
                  "14",
                  "407456",
                  "1",
                  "0",
                  "2",
                  "0.007",
                  "9.50338e-05",
                  "0.000390599",
                  "49.9965",
                  "50"
                ],
                [
                  "15",
                  "407456",
                  "1",
                  "0",
                  "3",
                  "0.01",
                  "9.54049e-05",
                  "0.000396909",
                  "49.995",
                  "50"
                ],
                [
                  "16",
                  "407456",
                  "1",
                  "0",
                  "1",
                  "0.0097143",
                  "9.98856e-05",
                  "0.000508127",
                  "69.9931",
                  "70"
                ],
                [
                  "17",
                  "407456",
                  "1",
                  "0",
                  "2",
                  "0.00733333",
                  "0.000109984",
                  "0.000446546",
                  "59.9956",
                  "60"
                ],
                [
                  "18",
                  "407456",
                  "1",
                  "0",
                  "3",
                  "0.0105",
                  "0.000110262",
                  "0.000453691",
                  "59.9937",
                  "60"
                ],
                [
                  "19",
                  "407456",
                  "1",
                  "0",
                  "1",
                  "0.009625",
                  "8.68322e-05",
                  "0.000597162",
                  "79.9923",
                  "80"
                ],
                [
                  "20",
                  "407456",
                  "1",
                  "0",
                  "2",
                  "0.00742858",
                  "0.000100417",
                  "0.000523811",
                  "69.9947",
                  "70"
                ],
                [
                  "21",
                  "407456",
                  "1",
                  "0",
                  "3",
                  "0.0107143",
                  "0.000100591",
                  "0.000532282",
                  "69.9924",
                  "70"
                ],
                [
                  "22",
                  "407456",
                  "1",
                  "0",
                  "1",
                  "0.00988886",
                  "7.23656e-05",
                  "0.000714951",
                  "89.9914",
                  "90"
                ],
                [
                  "23",
                  "407456",
                  "1",
                  "0",
                  "2",
                  "0.007375",
                  "8.71595e-05",
                  "0.000615955",
                  "79.9941",
                  "80"
                ],
                [
                  "24",
                  "407456",
                  "1",
                  "0",
                  "3",
                  "0.01075",
                  "8.73172e-05",
                  "0.000626548",
                  "79.9914",
                  "80"
                ],
                [
                  "25",
                  "407456",
                  "1",
                  "0",
                  "1",
                  "0.0101",
                  "5.53654e-05",
                  "0.000917139",
                  "99.9899",
                  "100"
                ],
                [
                  "26",
                  "407456",
                  "1",
                  "0",
                  "2",
                  "0.00766664",
                  "7.2599e-05",
                  "0.000738087",
                  "89.9934",
                  "90"
                ],
                [
                  "27",
                  "407456",
                  "1",
                  "0",
                  "3",
                  "0.0108889",
                  "7.27052e-05",
                  "0.000750607",
                  "89.9905",
                  "90"
                ],
                [
                  "28",
                  "407456",
                  "1",
                  "0",
                  "1",
                  "0.0103636",
                  "3.95787e-05",
                  "0.00126481",
                  "109.989",
                  "110"
                ],
                [
                  "29",
                  "407456",
                  "1",
                  "0",
                  "2",
                  "0.0078",
                  "5.55024e-05",
                  "0.000948374",
                  "99.9922",
                  "100"
                ],
                [
                  "30",
                  "407456",
                  "1",
                  "0",
                  "3",
                  "0.0108",
                  "5.55716e-05",
                  "0.00096623",
                  "99.9892",
                  "100"
                ],
                [
                  "31",
                  "407456",
                  "1",
                  "0",
                  "1",
                  "0.01075",
                  "2.54162e-05",
                  "0.00198899",
                  "119.987",
                  "120"
                ],
                [
                  "32",
                  "407456",
                  "1",
                  "0",
                  "2",
                  "0.00809091",
                  "3.9684e-05",
                  "0.00131168",
                  "109.991",
                  "110"
                ],
                [
                  "33",
                  "407456",
                  "1",
                  "0",
                  "3",
                  "0.0111818",
                  "3.9746e-05",
                  "0.00133586",
                  "109.988",
                  "110"
                ],
                [
                  "34",
                  "407456",
                  "1",
                  "0",
                  "1",
                  "1.35523",
                  "1.45027e-05",
                  "0.0566189",
                  "128.238",
                  "130"
                ],
                [
                  "35",
                  "407456",
                  "1",
                  "0",
                  "2",
                  "0.00841667",
                  "2.5478e-05",
                  "0.00207177",
                  "119.99",
                  "120"
                ],
                [
                  "36",
                  "407456",
                  "1",
                  "0",
                  "3",
                  "0.0119167",
                  "2.55102e-05",
                  "0.00211621",
                  "119.986",
                  "120"
                ],
                [
                  "37",
                  "407456",
                  "1",
                  "0",
                  "1",
                  "8.40268",
                  "1.52179e-05",
                  "0.489539",
                  "128.237",
                  "140"
                ],
                [
                  "38",
                  "407456",
                  "1",
                  "0",
                  "2",
                  "1.65077",
                  "1.50691e-05",
                  "0.0603503",
                  "127.854",
                  "130"
                ],
                [
                  "39",
                  "407456",
                  "1",
                  "0",
                  "3",
                  "1.82516",
                  "1.5392e-05",
                  "0.0627059",
                  "127.627",
                  "130"
                ],
                [
                  "40",
                  "407456",
                  "1",
                  "0",
                  "1",
                  "14.5103",
                  "2.59638e-05",
                  "0.723141",
                  "128.234",
                  "150"
                ],
                [
                  "41",
                  "407456",
                  "1",
                  "0",
                  "2",
                  "8.69111",
                  "1.58638e-05",
                  "0.517496",
                  "127.833",
                  "140"
                ],
                [
                  "42",
                  "407457",
                  "1",
                  "0",
                  "1",
                  "0.005",
                  "3.48935e-05",
                  "0.000174034",
                  "9.9995",
                  "10"
                ],
                [
                  "43",
                  "407456",
                  "1",
                  "0",
                  "3",
                  "8.83511",
                  "1.61947e-05",
                  "0.529524",
                  "127.631",
                  "140"
                ],
                [
                  "44",
                  "407456",
                  "1",
                  "0",
                  "2",
                  "14.7803",
                  "2.65416e-05",
                  "0.725695",
                  "127.83",
                  "150"
                ],
                [
                  "45",
                  "407457",
                  "1",
                  "0",
                  "2",
                  "0.005",
                  "4.22764e-05",
                  "0.00018005",
                  "9.9995",
                  "10"
                ],
                [
                  "46",
                  "407457",
                  "1",
                  "0",
                  "3",
                  "0.011",
                  "4.60148e-05",
                  "0.000185766",
                  "9.9989",
                  "10"
                ],
                [
                  "47",
                  "407456",
                  "1",
                  "0",
                  "3",
                  "14.9063",
                  "2.6816e-05",
                  "0.726864",
                  "127.641",
                  "150"
                ],
                [
                  "48",
                  "407457",
                  "1",
                  "0",
                  "1",
                  "0.0065",
                  "2.01858e-05",
                  "0.000178485",
                  "19.9987",
                  "20"
                ],
                [
                  "49",
                  "407457",
                  "1",
                  "0",
                  "2",
                  "0.006",
                  "2.39323e-05",
                  "0.000185422",
                  "19.9988",
                  "20"
                ]
              ],
              "shape": {
                "columns": 9,
                "rows": 135
              }
            },
            "text/html": [
              "<div>\n",
              "<style scoped>\n",
              "    .dataframe tbody tr th:only-of-type {\n",
              "        vertical-align: middle;\n",
              "    }\n",
              "\n",
              "    .dataframe tbody tr th {\n",
              "        vertical-align: top;\n",
              "    }\n",
              "\n",
              "    .dataframe thead th {\n",
              "        text-align: right;\n",
              "    }\n",
              "</style>\n",
              "<table border=\"1\" class=\"dataframe\">\n",
              "  <thead>\n",
              "    <tr style=\"text-align: right;\">\n",
              "      <th></th>\n",
              "      <th>rngRun</th>\n",
              "      <th>nStations</th>\n",
              "      <th>distance</th>\n",
              "      <th>linksNumber</th>\n",
              "      <th>loss</th>\n",
              "      <th>jitter</th>\n",
              "      <th>latency</th>\n",
              "      <th>throughput</th>\n",
              "      <th>dataRate</th>\n",
              "    </tr>\n",
              "  </thead>\n",
              "  <tbody>\n",
              "    <tr>\n",
              "      <th>0</th>\n",
              "      <td>407456</td>\n",
              "      <td>1</td>\n",
              "      <td>0</td>\n",
              "      <td>1</td>\n",
              "      <td>0.00700</td>\n",
              "      <td>0.000035</td>\n",
              "      <td>0.000174</td>\n",
              "      <td>9.9993</td>\n",
              "      <td>10</td>\n",
              "    </tr>\n",
              "    <tr>\n",
              "      <th>1</th>\n",
              "      <td>407456</td>\n",
              "      <td>1</td>\n",
              "      <td>0</td>\n",
              "      <td>2</td>\n",
              "      <td>0.00500</td>\n",
              "      <td>0.000042</td>\n",
              "      <td>0.000180</td>\n",
              "      <td>9.9995</td>\n",
              "      <td>10</td>\n",
              "    </tr>\n",
              "    <tr>\n",
              "      <th>2</th>\n",
              "      <td>407456</td>\n",
              "      <td>1</td>\n",
              "      <td>0</td>\n",
              "      <td>1</td>\n",
              "      <td>0.00850</td>\n",
              "      <td>0.000020</td>\n",
              "      <td>0.000178</td>\n",
              "      <td>19.9983</td>\n",
              "      <td>20</td>\n",
              "    </tr>\n",
              "    <tr>\n",
              "      <th>3</th>\n",
              "      <td>407456</td>\n",
              "      <td>1</td>\n",
              "      <td>0</td>\n",
              "      <td>3</td>\n",
              "      <td>0.00800</td>\n",
              "      <td>0.000046</td>\n",
              "      <td>0.000186</td>\n",
              "      <td>9.9992</td>\n",
              "      <td>10</td>\n",
              "    </tr>\n",
              "    <tr>\n",
              "      <th>4</th>\n",
              "      <td>407456</td>\n",
              "      <td>1</td>\n",
              "      <td>0</td>\n",
              "      <td>2</td>\n",
              "      <td>0.00600</td>\n",
              "      <td>0.000024</td>\n",
              "      <td>0.000185</td>\n",
              "      <td>19.9988</td>\n",
              "      <td>20</td>\n",
              "    </tr>\n",
              "    <tr>\n",
              "      <th>...</th>\n",
              "      <td>...</td>\n",
              "      <td>...</td>\n",
              "      <td>...</td>\n",
              "      <td>...</td>\n",
              "      <td>...</td>\n",
              "      <td>...</td>\n",
              "      <td>...</td>\n",
              "      <td>...</td>\n",
              "      <td>...</td>\n",
              "    </tr>\n",
              "    <tr>\n",
              "      <th>130</th>\n",
              "      <td>407458</td>\n",
              "      <td>1</td>\n",
              "      <td>0</td>\n",
              "      <td>1</td>\n",
              "      <td>14.50130</td>\n",
              "      <td>0.000026</td>\n",
              "      <td>0.723857</td>\n",
              "      <td>128.2480</td>\n",
              "      <td>150</td>\n",
              "    </tr>\n",
              "    <tr>\n",
              "      <th>131</th>\n",
              "      <td>407458</td>\n",
              "      <td>1</td>\n",
              "      <td>0</td>\n",
              "      <td>2</td>\n",
              "      <td>8.69075</td>\n",
              "      <td>0.000016</td>\n",
              "      <td>0.516131</td>\n",
              "      <td>127.8330</td>\n",
              "      <td>140</td>\n",
              "    </tr>\n",
              "    <tr>\n",
              "      <th>132</th>\n",
              "      <td>407458</td>\n",
              "      <td>1</td>\n",
              "      <td>0</td>\n",
              "      <td>3</td>\n",
              "      <td>8.84390</td>\n",
              "      <td>0.000016</td>\n",
              "      <td>0.526230</td>\n",
              "      <td>127.6190</td>\n",
              "      <td>140</td>\n",
              "    </tr>\n",
              "    <tr>\n",
              "      <th>133</th>\n",
              "      <td>407458</td>\n",
              "      <td>1</td>\n",
              "      <td>0</td>\n",
              "      <td>2</td>\n",
              "      <td>14.78270</td>\n",
              "      <td>0.000027</td>\n",
              "      <td>0.725701</td>\n",
              "      <td>127.8260</td>\n",
              "      <td>150</td>\n",
              "    </tr>\n",
              "    <tr>\n",
              "      <th>134</th>\n",
              "      <td>407458</td>\n",
              "      <td>1</td>\n",
              "      <td>0</td>\n",
              "      <td>3</td>\n",
              "      <td>14.92450</td>\n",
              "      <td>0.000027</td>\n",
              "      <td>0.727488</td>\n",
              "      <td>127.6130</td>\n",
              "      <td>150</td>\n",
              "    </tr>\n",
              "  </tbody>\n",
              "</table>\n",
              "<p>135 rows × 9 columns</p>\n",
              "</div>"
            ],
            "text/plain": [
              "     rngRun  nStations  distance  linksNumber      loss    jitter   latency  \\\n",
              "0    407456          1         0            1   0.00700  0.000035  0.000174   \n",
              "1    407456          1         0            2   0.00500  0.000042  0.000180   \n",
              "2    407456          1         0            1   0.00850  0.000020  0.000178   \n",
              "3    407456          1         0            3   0.00800  0.000046  0.000186   \n",
              "4    407456          1         0            2   0.00600  0.000024  0.000185   \n",
              "..      ...        ...       ...          ...       ...       ...       ...   \n",
              "130  407458          1         0            1  14.50130  0.000026  0.723857   \n",
              "131  407458          1         0            2   8.69075  0.000016  0.516131   \n",
              "132  407458          1         0            3   8.84390  0.000016  0.526230   \n",
              "133  407458          1         0            2  14.78270  0.000027  0.725701   \n",
              "134  407458          1         0            3  14.92450  0.000027  0.727488   \n",
              "\n",
              "     throughput  dataRate  \n",
              "0        9.9993        10  \n",
              "1        9.9995        10  \n",
              "2       19.9983        20  \n",
              "3        9.9992        10  \n",
              "4       19.9988        20  \n",
              "..          ...       ...  \n",
              "130    128.2480       150  \n",
              "131    127.8330       140  \n",
              "132    127.6190       140  \n",
              "133    127.8260       150  \n",
              "134    127.6130       150  \n",
              "\n",
              "[135 rows x 9 columns]"
            ]
          },
          "execution_count": 4,
          "metadata": {},
          "output_type": "execute_result"
        }
      ],
      "source": [
        "data = pd.read_csv('load.csv').drop_duplicates()\n",
        "data"
      ]
    },
    {
      "cell_type": "code",
      "execution_count": 6,
      "metadata": {
        "colab": {
          "base_uri": "https://localhost:8080/",
          "height": 485
        },
        "id": "GMdojOYAGW3W",
        "outputId": "39797f3a-4ad5-4743-90d5-f971c47c6c81"
      },
      "outputs": [
        {
          "name": "stderr",
          "output_type": "stream",
          "text": [
            "C:\\Users\\Admin\\AppData\\Local\\Temp\\ipykernel_5252\\2006149990.py:6: UserWarning: The palette list has more values (6) than needed (3), which may not be intended.\n",
            "  ax = sns.lineplot(data=plot_sum, x='dataRate', y='throughput', hue='linksNumber', errorbar=('ci'), markers=True, palette=palette, ax=ax, style='nStations')\n"
          ]
        },
        {
          "data": {
            "image/png": "[encoded data removed]",
            "text/plain": [
              "<Figure size 640x480 with 1 Axes>"
            ]
          },
          "metadata": {},
          "output_type": "display_data"
        }
      ],
      "source": [
        "plot_sum = data.groupby(['distance', 'linksNumber', 'rngRun', 'throughput', 'loss', 'jitter', 'latency']).sum().reset_index()\n",
        "plot_sum\n",
        "ax = None\n",
        "plt.grid(color = 'white', linestyle = '--', linewidth = 0.5)\n",
        "\n",
        "ax = sns.lineplot(data=plot_sum, x='dataRate', y='throughput', hue='linksNumber', errorbar=('ci'), markers=True, palette=palette, ax=ax, style='nStations')\n",
        "ax.tick_params(axis='y', which='both', labelleft=True)\n",
        "for line in ax.get_lines():  # Modyfikacja markerów w istniejących liniach\n",
        "    line.set_markersize(marker_size)\n",
        "\n",
        "handles, labels = ax.get_legend_handles_labels()\n",
        "ax.legend(\n",
        "      handles=handles[1:4],\n",
        "      labels=['1', '2', '3'],\n",
        "      ncol=1,              # Liczba kolumn w legendzie\n",
        "      fontsize='large',   # Rozmiar czcionki\n",
        "    )\n",
        "ax.set(xlabel=xlabel, ylabel='Total throughput [Mbps]')\n",
        "plt.savefig('dataRate_thr.svg', bbox_inches='tight')"
      ]
    },
    {
      "cell_type": "code",
      "execution_count": 7,
      "metadata": {
        "colab": {
          "base_uri": "https://localhost:8080/",
          "height": 484
        },
        "id": "lLc7wq-msXlD",
        "outputId": "41dfb0c3-42f6-42f3-94c7-da9b630c6b39"
      },
      "outputs": [
        {
          "name": "stderr",
          "output_type": "stream",
          "text": [
            "C:\\Users\\Admin\\AppData\\Local\\Temp\\ipykernel_5252\\2062718694.py:4: UserWarning: The palette list has more values (6) than needed (3), which may not be intended.\n",
            "  ax = sns.lineplot(data=plot_sum, x='dataRate', y='loss', hue='linksNumber', errorbar=('ci'), markers=True, palette=palette, ax=ax, style='nStations')\n"
          ]
        },
        {
          "data": {
            "image/png": "[encoded data removed]",
            "text/plain": [
              "<Figure size 640x480 with 1 Axes>"
            ]
          },
          "metadata": {},
          "output_type": "display_data"
        }
      ],
      "source": [
        "ax = None\n",
        "plt.grid(color = 'white', linestyle = '--', linewidth = 0.5)\n",
        "\n",
        "ax = sns.lineplot(data=plot_sum, x='dataRate', y='loss', hue='linksNumber', errorbar=('ci'), markers=True, palette=palette, ax=ax, style='nStations')\n",
        "ax.tick_params(axis='y', which='both', labelleft=True)\n",
        "for line in ax.get_lines():  # Modyfikacja markerów w istniejących liniach\n",
        "    line.set_markersize(marker_size)\n",
        "\n",
        "handles, labels = ax.get_legend_handles_labels()\n",
        "ax.legend(\n",
        "      handles=handles[1:4],\n",
        "      labels=['1', '2', '3'],\n",
        "      ncol=1,              # Liczba kolumn w legendzie\n",
        "      fontsize='large',   # Rozmiar czcionki\n",
        "    )\n",
        "ax.set(xlabel=xlabel, ylabel='Average loss [%]')\n",
        "plt.savefig('dataRate_loss.svg', bbox_inches='tight')"
      ]
    },
    {
      "cell_type": "code",
      "execution_count": 6,
      "metadata": {
        "id": "Ua0rys8ystu0"
      },
      "outputs": [],
      "source": [
        "plot_sum = plot_sum[plot_sum['latency'] != 0]"
      ]
    },
    {
      "cell_type": "code",
      "execution_count": 8,
      "metadata": {
        "colab": {
          "base_uri": "https://localhost:8080/",
          "height": 484
        },
        "id": "ZCdpL80FJcbE",
        "outputId": "1dd89a5b-319f-451e-d6f5-7b9f7f0eaa67"
      },
      "outputs": [
        {
          "name": "stderr",
          "output_type": "stream",
          "text": [
            "C:\\Users\\Admin\\AppData\\Local\\Temp\\ipykernel_5252\\3692953480.py:4: UserWarning: The palette list has more values (6) than needed (3), which may not be intended.\n",
            "  ax = sns.lineplot(data=plot_sum, x='dataRate', y='jitter', hue='linksNumber', errorbar=('ci'), markers=True, palette=palette, ax=ax, style='nStations')\n"
          ]
        },
        {
          "data": {
            "image/png": "[encoded data removed]",
            "text/plain": [
              "<Figure size 640x480 with 1 Axes>"
            ]
          },
          "metadata": {},
          "output_type": "display_data"
        }
      ],
      "source": [
        "ax = None\n",
        "plt.grid(color = 'white', linestyle = '--', linewidth = 0.5)\n",
        "\n",
        "ax = sns.lineplot(data=plot_sum, x='dataRate', y='jitter', hue='linksNumber', errorbar=('ci'), markers=True, palette=palette, ax=ax, style='nStations')\n",
        "ax.tick_params(axis='y', which='both', labelleft=True)\n",
        "for line in ax.get_lines():  # Modyfikacja markerów w istniejących liniach\n",
        "    line.set_markersize(marker_size)\n",
        "\n",
        "handles, labels = ax.get_legend_handles_labels()\n",
        "ax.legend(\n",
        "      handles=handles[1:4],\n",
        "      labels=['1', '2', '3'],\n",
        "      ncol=1,              # Liczba kolumn w legendzie\n",
        "      fontsize='large',   # Rozmiar czcionki\n",
        "    )\n",
        "ax.set(xlabel=xlabel, ylabel='Average jitter [s]')\n",
        "plt.savefig('dataRate_jitt.svg', bbox_inches='tight')"
      ]
    },
    {
      "cell_type": "code",
      "execution_count": 9,
      "metadata": {
        "colab": {
          "base_uri": "https://localhost:8080/",
          "height": 484
        },
        "id": "RXLEqvKXJcoD",
        "outputId": "2e4fb6b3-6b37-44e2-bfbb-39c631cb7044"
      },
      "outputs": [
        {
          "name": "stderr",
          "output_type": "stream",
          "text": [
            "C:\\Users\\Admin\\AppData\\Local\\Temp\\ipykernel_5252\\3470615173.py:4: UserWarning: The palette list has more values (6) than needed (3), which may not be intended.\n",
            "  ax = sns.lineplot(data=plot_sum, x='dataRate', y='latency', hue='linksNumber', errorbar=('ci'), markers=True, palette=palette, ax=ax, style='nStations')\n"
          ]
        },
        {
          "data": {
            "image/png": "[encoded data removed]",
            "text/plain": [
              "<Figure size 640x480 with 1 Axes>"
            ]
          },
          "metadata": {},
          "output_type": "display_data"
        }
      ],
      "source": [
        "ax = None\n",
        "plt.grid(color = 'white', linestyle = '--', linewidth = 0.5)\n",
        "\n",
        "ax = sns.lineplot(data=plot_sum, x='dataRate', y='latency', hue='linksNumber', errorbar=('ci'), markers=True, palette=palette, ax=ax, style='nStations')\n",
        "ax.tick_params(axis='y', which='both', labelleft=True)\n",
        "for line in ax.get_lines():  # Modyfikacja markerów w istniejących liniach\n",
        "    line.set_markersize(marker_size)\n",
        "\n",
        "handles, labels = ax.get_legend_handles_labels()\n",
        "ax.legend(\n",
        "      handles=handles[1:4],\n",
        "      labels=['1', '2', '3'],\n",
        "      ncol=1,              # Liczba kolumn w legendzie\n",
        "      fontsize='large',   # Rozmiar czcionki\n",
        "    )\n",
        "ax.set(xlabel='Distance beetwen APs [m]', ylabel='Average latency [s]')\n",
        "plt.savefig('dataRate_lat.svg', bbox_inches='tight')"
      ]
    }
  ],
  "metadata": {
    "colab": {
      "provenance": []
    },
    "kernelspec": {
      "display_name": "Python 3",
      "name": "python3"
    },
    "language_info": {
      "codemirror_mode": {
        "name": "ipython",
        "version": 3
      },
      "file_extension": ".py",
      "mimetype": "text/x-python",
      "name": "python",
      "nbconvert_exporter": "python",
      "pygments_lexer": "ipython3",
      "version": "3.12.9"
    }
  },
  "nbformat": 4,
  "nbformat_minor": 0
}
