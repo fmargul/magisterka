{
 "cells": [
  {
   "cell_type": "code",
   "execution_count": 19,
   "id": "786367ec",
   "metadata": {},
   "outputs": [
    {
     "name": "stderr",
     "output_type": "stream",
     "text": [
      "Exception ignored in: <function Capture.__del__ at 0x00000129D33D0C20>\n",
      "Traceback (most recent call last):\n",
      "  File \"C:\\Users\\Admin\\AppData\\Local\\Packages\\PythonSoftwareFoundation.Python.3.12_qbz5n2kfra8p0\\LocalCache\\local-packages\\Python312\\site-packages\\pyshark\\capture\\capture.py\", line 404, in __del__\n",
      "    if self._running_processes:\n",
      "       ^^^^^^^^^^^^^^^^^^^^^^^\n",
      "AttributeError: 'FileCapture' object has no attribute '_running_processes'\n"
     ]
    },
    {
     "ename": "TypeError",
     "evalue": "FileCapture.__init__() got an unexpected keyword argument 'tshark_options'",
     "output_type": "error",
     "traceback": [
      "\u001b[1;31m---------------------------------------------------------------------------\u001b[0m",
      "\u001b[1;31mTypeError\u001b[0m                                 Traceback (most recent call last)",
      "Cell \u001b[1;32mIn[19], line 4\u001b[0m\n\u001b[0;32m      1\u001b[0m \u001b[38;5;28;01mimport\u001b[39;00m \u001b[38;5;21;01mpyshark\u001b[39;00m\n\u001b[0;32m      3\u001b[0m \u001b[38;5;66;03m# Wczytanie pliku .pcap z wyłączeniem rozwiązywania nazw (argument '-n')\u001b[39;00m\n\u001b[1;32m----> 4\u001b[0m cap \u001b[38;5;241m=\u001b[39m \u001b[43mpyshark\u001b[49m\u001b[38;5;241;43m.\u001b[39;49m\u001b[43mFileCapture\u001b[49m\u001b[43m(\u001b[49m\u001b[38;5;124;43m'\u001b[39;49m\u001b[38;5;124;43map1.pcap-1-0-0.pcap\u001b[39;49m\u001b[38;5;124;43m'\u001b[39;49m\u001b[43m,\u001b[49m\u001b[43m \u001b[49m\u001b[43mtshark_options\u001b[49m\u001b[38;5;241;43m=\u001b[39;49m\u001b[38;5;124;43m'\u001b[39;49m\u001b[38;5;124;43m-n\u001b[39;49m\u001b[38;5;124;43m'\u001b[39;49m\u001b[43m)\u001b[49m\n\u001b[0;32m      6\u001b[0m \u001b[38;5;66;03m# Przeglądanie pierwszych 5 pakietów\u001b[39;00m\n\u001b[0;32m      7\u001b[0m \u001b[38;5;28;01mfor\u001b[39;00m i, packet \u001b[38;5;129;01min\u001b[39;00m \u001b[38;5;28menumerate\u001b[39m(cap):\n",
      "\u001b[1;31mTypeError\u001b[0m: FileCapture.__init__() got an unexpected keyword argument 'tshark_options'"
     ]
    }
   ],
   "source": [
    "import pyshark\n",
    "\n",
    "# Wczytanie pliku .pcap z wyłączeniem rozwiązywania nazw (argument '-n')\n",
    "cap = pyshark.FileCapture('ap1.pcap-1-0-0.pcap', tshark_options='-n')\n",
    "\n",
    "# Przeglądanie pierwszych 5 pakietów\n",
    "for i, packet in enumerate(cap):\n",
    "    if i >= 5:\n",
    "        break\n",
    "    print(packet)\n"
   ]
  }
 ],
 "metadata": {
  "kernelspec": {
   "display_name": "Python 3",
   "language": "python",
   "name": "python3"
  },
  "language_info": {
   "codemirror_mode": {
    "name": "ipython",
    "version": 3
   },
   "file_extension": ".py",
   "mimetype": "text/x-python",
   "name": "python",
   "nbconvert_exporter": "python",
   "pygments_lexer": "ipython3",
   "version": "3.12.10"
  }
 },
 "nbformat": 4,
 "nbformat_minor": 5
}
